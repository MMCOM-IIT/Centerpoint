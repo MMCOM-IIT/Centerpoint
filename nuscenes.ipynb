{
 "cells": [
  {
   "cell_type": "code",
   "execution_count": 27,
   "metadata": {},
   "outputs": [
    {
     "name": "stdout",
     "output_type": "stream",
     "text": [
      "======\n",
      "Loading NuScenes tables for version v1.0-test...\n",
      "23 category,\n",
      "8 attribute,\n",
      "4 visibility,\n",
      "0 instance,\n",
      "12 sensor,\n",
      "1800 calibrated_sensor,\n",
      "462901 ego_pose,\n",
      "15 log,\n",
      "150 scene,\n",
      "6008 sample,\n",
      "462901 sample_data,\n",
      "0 sample_annotation,\n",
      "4 map,\n",
      "Done loading in 4.269 seconds.\n",
      "======\n",
      "Reverse indexing ...\n",
      "Done reverse indexing in 1.4 seconds.\n",
      "======\n"
     ]
    }
   ],
   "source": [
    "%matplotlib inline\n",
    "from nuscenes.nuscenes import NuScenes\n",
    "\n",
    "nusc = NuScenes(version='v1.0-test', dataroot='./data/nuScenes/v1.0-test/', verbose=True)\n"
   ]
  },
  {
   "cell_type": "code",
   "execution_count": 28,
   "metadata": {},
   "outputs": [
    {
     "name": "stdout",
     "output_type": "stream",
     "text": [
      "scene-0279, ## No descriptions available for the te... [18-07-25 08:18:00]   19s, singapore-onenorth, #anns:0\n",
      "scene-0280, ## No descriptions available for the te... [18-07-25 08:19:38]   19s, singapore-onenorth, #anns:0\n",
      "scene-0281, ## No descriptions available for the te... [18-07-25 08:20:38]   19s, singapore-onenorth, #anns:0\n",
      "scene-0282, ## No descriptions available for the te... [18-07-25 08:21:48]   20s, singapore-onenorth, #anns:0\n",
      "scene-0307, ## No descriptions available for the te... [18-07-25 08:22:43]   19s, singapore-onenorth, #anns:0\n",
      "scene-0308, ## No descriptions available for the te... [18-07-25 08:26:42]   19s, singapore-onenorth, #anns:0\n",
      "scene-0140, ## No descriptions available for the te... [18-08-01 08:54:15]   19s, singapore-onenorth, #anns:0\n",
      "scene-0142, ## No descriptions available for the te... [18-08-01 08:55:38]   19s, singapore-onenorth, #anns:0\n",
      "scene-0143, ## No descriptions available for the te... [18-08-01 08:57:29]   19s, singapore-onenorth, #anns:0\n",
      "scene-0144, ## No descriptions available for the te... [18-08-01 08:58:13]   20s, singapore-onenorth, #anns:0\n",
      "scene-0145, ## No descriptions available for the te... [18-08-01 09:00:00]   19s, singapore-onenorth, #anns:0\n",
      "scene-0146, ## No descriptions available for the te... [18-08-01 09:00:20]   19s, singapore-onenorth, #anns:0\n",
      "scene-0147, ## No descriptions available for the te... [18-08-01 09:02:55]   19s, singapore-onenorth, #anns:0\n",
      "scene-0148, ## No descriptions available for the te... [18-08-01 09:03:21]   19s, singapore-onenorth, #anns:0\n",
      "scene-0111, ## No descriptions available for the te... [18-08-01 19:36:54]   19s, boston-seaport, #anns:0\n",
      "scene-0112, ## No descriptions available for the te... [18-08-01 19:39:09]   20s, boston-seaport, #anns:0\n",
      "scene-0113, ## No descriptions available for the te... [18-08-01 19:40:44]   19s, boston-seaport, #anns:0\n",
      "scene-0114, ## No descriptions available for the te... [18-08-01 19:42:13]   19s, boston-seaport, #anns:0\n",
      "scene-0115, ## No descriptions available for the te... [18-08-01 19:43:41]   19s, boston-seaport, #anns:0\n",
      "scene-0116, ## No descriptions available for the te... [18-08-01 19:44:01]   19s, boston-seaport, #anns:0\n",
      "scene-0117, ## No descriptions available for the te... [18-08-01 19:44:58]   19s, boston-seaport, #anns:0\n",
      "scene-0118, ## No descriptions available for the te... [18-08-01 19:48:25]   19s, boston-seaport, #anns:0\n",
      "scene-0119, ## No descriptions available for the te... [18-08-01 19:48:45]   19s, boston-seaport, #anns:0\n",
      "scene-0077, ## No descriptions available for the te... [18-08-01 20:04:17]   19s, boston-seaport, #anns:0\n",
      "scene-0078, ## No descriptions available for the te... [18-08-01 20:05:00]   19s, boston-seaport, #anns:0\n",
      "scene-0079, ## No descriptions available for the te... [18-08-01 20:05:44]   19s, boston-seaport, #anns:0\n",
      "scene-0080, ## No descriptions available for the te... [18-08-01 20:06:15]   19s, boston-seaport, #anns:0\n",
      "scene-0081, ## No descriptions available for the te... [18-08-01 20:06:45]   19s, boston-seaport, #anns:0\n",
      "scene-0082, ## No descriptions available for the te... [18-08-01 20:07:48]   19s, boston-seaport, #anns:0\n",
      "scene-0083, ## No descriptions available for the te... [18-08-01 20:08:23]   19s, boston-seaport, #anns:0\n",
      "scene-0084, ## No descriptions available for the te... [18-08-01 20:08:43]   19s, boston-seaport, #anns:0\n",
      "scene-0085, ## No descriptions available for the te... [18-08-01 20:10:02]   19s, boston-seaport, #anns:0\n",
      "scene-0086, ## No descriptions available for the te... [18-08-01 20:10:38]   19s, boston-seaport, #anns:0\n",
      "scene-0087, ## No descriptions available for the te... [18-08-01 20:10:58]   19s, boston-seaport, #anns:0\n",
      "scene-0088, ## No descriptions available for the te... [18-08-01 20:11:18]   20s, boston-seaport, #anns:0\n",
      "scene-0089, ## No descriptions available for the te... [18-08-01 20:11:38]   19s, boston-seaport, #anns:0\n",
      "scene-0090, ## No descriptions available for the te... [18-08-01 20:12:00]   19s, boston-seaport, #anns:0\n",
      "scene-0091, ## No descriptions available for the te... [18-08-01 20:12:33]   19s, boston-seaport, #anns:0\n",
      "scene-0309, ## No descriptions available for the te... [18-08-03 04:56:17]   19s, singapore-onenorth, #anns:0\n",
      "scene-0310, ## No descriptions available for the te... [18-08-03 04:57:59]   20s, singapore-onenorth, #anns:0\n",
      "scene-0311, ## No descriptions available for the te... [18-08-03 05:00:31]   20s, singapore-onenorth, #anns:0\n",
      "scene-0312, ## No descriptions available for the te... [18-08-03 05:04:29]   19s, singapore-onenorth, #anns:0\n",
      "scene-0313, ## No descriptions available for the te... [18-08-03 05:05:22]   19s, singapore-onenorth, #anns:0\n",
      "scene-0314, ## No descriptions available for the te... [18-08-03 05:06:22]   19s, singapore-onenorth, #anns:0\n",
      "scene-0265, ## No descriptions available for the te... [18-08-22 20:07:44]   19s, boston-seaport, #anns:0\n",
      "scene-0266, ## No descriptions available for the te... [18-08-22 20:12:42]   19s, boston-seaport, #anns:0\n",
      "scene-0481, ## No descriptions available for the te... [18-08-28 19:50:12]   20s, boston-seaport, #anns:0\n",
      "scene-0482, ## No descriptions available for the te... [18-08-28 19:50:43]   20s, boston-seaport, #anns:0\n",
      "scene-0483, ## No descriptions available for the te... [18-08-28 19:51:03]   20s, boston-seaport, #anns:0\n",
      "scene-0484, ## No descriptions available for the te... [18-08-28 19:52:03]   20s, boston-seaport, #anns:0\n",
      "scene-0485, ## No descriptions available for the te... [18-08-28 19:54:28]   20s, boston-seaport, #anns:0\n",
      "scene-0486, ## No descriptions available for the te... [18-08-28 19:54:48]   19s, boston-seaport, #anns:0\n",
      "scene-0487, ## No descriptions available for the te... [18-08-28 19:55:50]   20s, boston-seaport, #anns:0\n",
      "scene-0488, ## No descriptions available for the te... [18-08-28 19:56:30]   19s, boston-seaport, #anns:0\n",
      "scene-0489, ## No descriptions available for the te... [18-08-28 19:57:10]   20s, boston-seaport, #anns:0\n",
      "scene-0490, ## No descriptions available for the te... [18-08-28 19:58:30]   19s, boston-seaport, #anns:0\n",
      "scene-0491, ## No descriptions available for the te... [18-08-28 19:59:19]   20s, boston-seaport, #anns:0\n",
      "scene-0492, ## No descriptions available for the te... [18-08-28 19:59:42]   20s, boston-seaport, #anns:0\n",
      "scene-0493, ## No descriptions available for the te... [18-08-28 20:00:44]   20s, boston-seaport, #anns:0\n",
      "scene-0494, ## No descriptions available for the te... [18-08-28 20:01:09]   20s, boston-seaport, #anns:0\n",
      "scene-0495, ## No descriptions available for the te... [18-08-28 20:02:01]   20s, boston-seaport, #anns:0\n",
      "scene-0496, ## No descriptions available for the te... [18-08-28 20:02:37]   20s, boston-seaport, #anns:0\n",
      "scene-0497, ## No descriptions available for the te... [18-08-28 20:03:54]   19s, boston-seaport, #anns:0\n",
      "scene-0498, ## No descriptions available for the te... [18-08-28 20:04:44]   20s, boston-seaport, #anns:0\n",
      "scene-0547, ## No descriptions available for the te... [18-08-28 20:05:35]   20s, boston-seaport, #anns:0\n",
      "scene-0548, ## No descriptions available for the te... [18-08-28 20:07:34]   19s, boston-seaport, #anns:0\n",
      "scene-0549, ## No descriptions available for the te... [18-08-28 20:07:54]   20s, boston-seaport, #anns:0\n",
      "scene-0550, ## No descriptions available for the te... [18-08-28 20:09:07]   20s, boston-seaport, #anns:0\n",
      "scene-0551, ## No descriptions available for the te... [18-08-28 20:09:47]   20s, boston-seaport, #anns:0\n",
      "scene-0333, ## No descriptions available for the te... [18-08-31 16:17:10]   19s, boston-seaport, #anns:0\n",
      "scene-0334, ## No descriptions available for the te... [18-08-31 16:17:49]   20s, boston-seaport, #anns:0\n",
      "scene-0335, ## No descriptions available for the te... [18-08-31 16:19:31]   19s, boston-seaport, #anns:0\n",
      "scene-0336, ## No descriptions available for the te... [18-08-31 16:20:22]   19s, boston-seaport, #anns:0\n",
      "scene-0337, ## No descriptions available for the te... [18-08-31 16:20:41]   20s, boston-seaport, #anns:0\n",
      "scene-0338, ## No descriptions available for the te... [18-08-31 16:21:59]   19s, boston-seaport, #anns:0\n",
      "scene-0339, ## No descriptions available for the te... [18-08-31 16:22:19]   19s, boston-seaport, #anns:0\n",
      "scene-0340, ## No descriptions available for the te... [18-08-31 16:25:04]   19s, boston-seaport, #anns:0\n",
      "scene-0341, ## No descriptions available for the te... [18-08-31 16:25:23]   19s, boston-seaport, #anns:0\n",
      "scene-0342, ## No descriptions available for the te... [18-08-31 16:25:44]   19s, boston-seaport, #anns:0\n",
      "scene-0343, ## No descriptions available for the te... [18-08-31 16:26:13]   19s, boston-seaport, #anns:0\n",
      "scene-0601, ## No descriptions available for the te... [18-09-18 18:18:39]   20s, boston-seaport, #anns:0\n",
      "scene-0602, ## No descriptions available for the te... [18-09-18 18:19:24]   20s, boston-seaport, #anns:0\n",
      "scene-0603, ## No descriptions available for the te... [18-09-18 18:19:44]   20s, boston-seaport, #anns:0\n",
      "scene-0604, ## No descriptions available for the te... [18-09-18 18:20:04]   19s, boston-seaport, #anns:0\n",
      "scene-0606, ## No descriptions available for the te... [18-09-18 18:21:21]   19s, boston-seaport, #anns:0\n",
      "scene-0607, ## No descriptions available for the te... [18-09-18 18:22:11]   19s, boston-seaport, #anns:0\n",
      "scene-0608, ## No descriptions available for the te... [18-09-18 18:22:59]   20s, boston-seaport, #anns:0\n",
      "scene-0609, ## No descriptions available for the te... [18-09-18 18:23:19]   19s, boston-seaport, #anns:0\n",
      "scene-0610, ## No descriptions available for the te... [18-09-18 18:23:39]   20s, boston-seaport, #anns:0\n",
      "scene-0611, ## No descriptions available for the te... [18-09-18 18:24:07]   20s, boston-seaport, #anns:0\n",
      "scene-0612, ## No descriptions available for the te... [18-09-18 18:24:27]   20s, boston-seaport, #anns:0\n",
      "scene-0613, ## No descriptions available for the te... [18-09-18 18:25:01]   20s, boston-seaport, #anns:0\n",
      "scene-0614, ## No descriptions available for the te... [18-09-18 18:25:34]   19s, boston-seaport, #anns:0\n",
      "scene-0615, ## No descriptions available for the te... [18-09-18 18:25:54]   20s, boston-seaport, #anns:0\n",
      "scene-0616, ## No descriptions available for the te... [18-09-18 18:26:49]   20s, boston-seaport, #anns:0\n",
      "scene-0617, ## No descriptions available for the te... [18-09-18 18:27:19]   20s, boston-seaport, #anns:0\n",
      "scene-0618, ## No descriptions available for the te... [18-09-18 18:27:39]   19s, boston-seaport, #anns:0\n",
      "scene-0619, ## No descriptions available for the te... [18-09-18 18:27:59]   19s, boston-seaport, #anns:0\n",
      "scene-0620, ## No descriptions available for the te... [18-09-18 18:28:26]   20s, boston-seaport, #anns:0\n",
      "scene-0621, ## No descriptions available for the te... [18-09-18 18:29:26]   20s, boston-seaport, #anns:0\n",
      "scene-0622, ## No descriptions available for the te... [18-09-18 18:29:46]   20s, boston-seaport, #anns:0\n",
      "scene-0623, ## No descriptions available for the te... [18-09-18 18:30:06]   20s, boston-seaport, #anns:0\n",
      "scene-0624, ## No descriptions available for the te... [18-09-18 18:30:26]   20s, boston-seaport, #anns:0\n",
      "scene-0932, ## No descriptions available for the te... [18-10-02 03:11:45]   20s, singapore-queensto, #anns:0\n",
      "scene-0933, ## No descriptions available for the te... [18-10-02 03:14:36]   19s, singapore-queensto, #anns:0\n",
      "scene-0935, ## No descriptions available for the te... [18-10-02 03:15:16]   20s, singapore-queensto, #anns:0\n",
      "scene-0936, ## No descriptions available for the te... [18-10-02 03:15:36]   20s, singapore-queensto, #anns:0\n",
      "scene-0937, ## No descriptions available for the te... [18-10-02 03:16:56]   19s, singapore-queensto, #anns:0\n",
      "scene-0938, ## No descriptions available for the te... [18-10-02 03:17:58]   20s, singapore-queensto, #anns:0\n",
      "scene-0939, ## No descriptions available for the te... [18-10-02 03:18:18]   20s, singapore-queensto, #anns:0\n",
      "scene-0940, ## No descriptions available for the te... [18-10-02 03:18:38]   20s, singapore-queensto, #anns:0\n",
      "scene-0941, ## No descriptions available for the te... [18-10-02 03:18:58]   20s, singapore-queensto, #anns:0\n",
      "scene-0942, ## No descriptions available for the te... [18-10-02 03:19:18]   20s, singapore-queensto, #anns:0\n",
      "scene-0943, ## No descriptions available for the te... [18-10-02 03:21:58]   20s, singapore-queensto, #anns:0\n",
      "scene-0827, ## No descriptions available for the te... [18-10-02 03:24:05]   20s, singapore-queensto, #anns:0\n",
      "scene-0828, ## No descriptions available for the te... [18-10-02 03:24:25]   20s, singapore-queensto, #anns:0\n",
      "scene-0829, ## No descriptions available for the te... [18-10-02 03:24:45]   20s, singapore-queensto, #anns:0\n",
      "scene-0830, ## No descriptions available for the te... [18-10-02 03:25:05]   20s, singapore-queensto, #anns:0\n",
      "scene-0831, ## No descriptions available for the te... [18-10-02 03:25:25]   20s, singapore-queensto, #anns:0\n",
      "scene-0833, ## No descriptions available for the te... [18-10-02 03:26:05]   20s, singapore-queensto, #anns:0\n",
      "scene-0834, ## No descriptions available for the te... [18-10-02 03:26:25]   20s, singapore-queensto, #anns:0\n",
      "scene-0835, ## No descriptions available for the te... [18-10-02 03:26:45]   19s, singapore-queensto, #anns:0\n",
      "scene-0836, ## No descriptions available for the te... [18-10-02 03:27:05]   20s, singapore-queensto, #anns:0\n",
      "scene-0837, ## No descriptions available for the te... [18-10-02 03:27:45]   20s, singapore-queensto, #anns:0\n",
      "scene-0838, ## No descriptions available for the te... [18-10-02 03:28:05]   20s, singapore-queensto, #anns:0\n",
      "scene-0839, ## No descriptions available for the te... [18-10-02 03:28:33]   20s, singapore-queensto, #anns:0\n",
      "scene-0840, ## No descriptions available for the te... [18-10-02 03:28:53]   20s, singapore-queensto, #anns:0\n",
      "scene-0841, ## No descriptions available for the te... [18-10-02 03:29:13]   20s, singapore-queensto, #anns:0\n",
      "scene-0842, ## No descriptions available for the te... [18-10-02 03:29:45]   19s, singapore-queensto, #anns:0\n",
      "scene-0844, ## No descriptions available for the te... [18-10-02 03:30:52]   19s, singapore-queensto, #anns:0\n",
      "scene-0845, ## No descriptions available for the te... [18-10-02 03:31:12]   20s, singapore-queensto, #anns:0\n",
      "scene-0846, ## No descriptions available for the te... [18-10-02 03:32:12]   19s, singapore-queensto, #anns:0\n",
      "scene-1026, ## No descriptions available for the te... [18-11-14 11:21:42]   20s, singapore-queensto, #anns:0\n",
      "scene-1027, ## No descriptions available for the te... [18-11-14 11:22:22]   19s, singapore-queensto, #anns:0\n",
      "scene-1028, ## No descriptions available for the te... [18-11-14 11:22:42]   20s, singapore-queensto, #anns:0\n",
      "scene-1029, ## No descriptions available for the te... [18-11-14 11:23:02]   20s, singapore-queensto, #anns:0\n",
      "scene-1030, ## No descriptions available for the te... [18-11-14 11:24:30]   20s, singapore-queensto, #anns:0\n",
      "scene-1031, ## No descriptions available for the te... [18-11-14 11:24:50]   20s, singapore-queensto, #anns:0\n",
      "scene-1032, ## No descriptions available for the te... [18-11-14 11:26:38]   20s, singapore-queensto, #anns:0\n",
      "scene-1033, ## No descriptions available for the te... [18-11-14 11:46:38]   20s, singapore-queensto, #anns:0\n",
      "scene-1034, ## No descriptions available for the te... [18-11-14 11:46:58]   19s, singapore-queensto, #anns:0\n",
      "scene-1035, ## No descriptions available for the te... [18-11-14 11:47:18]   20s, singapore-queensto, #anns:0\n",
      "scene-1036, ## No descriptions available for the te... [18-11-14 11:49:38]   20s, singapore-queensto, #anns:0\n",
      "scene-1037, ## No descriptions available for the te... [18-11-14 11:52:36]   20s, singapore-queensto, #anns:0\n",
      "scene-1038, ## No descriptions available for the te... [18-11-14 11:53:00]   20s, singapore-queensto, #anns:0\n",
      "scene-1039, ## No descriptions available for the te... [18-11-14 11:53:20]   20s, singapore-queensto, #anns:0\n",
      "scene-1040, ## No descriptions available for the te... [18-11-14 11:55:24]   20s, singapore-queensto, #anns:0\n",
      "scene-1041, ## No descriptions available for the te... [18-11-14 11:55:44]   20s, singapore-queensto, #anns:0\n",
      "scene-1042, ## No descriptions available for the te... [18-11-14 11:56:04]   19s, singapore-queensto, #anns:0\n",
      "scene-1043, ## No descriptions available for the te... [18-11-14 11:57:55]   20s, singapore-queensto, #anns:0\n"
     ]
    }
   ],
   "source": [
    "nusc.list_scenes()"
   ]
  },
  {
   "cell_type": "code",
   "execution_count": 36,
   "metadata": {},
   "outputs": [
    {
     "data": {
      "text/plain": [
       "{'nbr_samples': 40,\n",
       " 'name': 'scene-0077',\n",
       " 'last_sample_token': 'c51c10209bd14d5193583b195b36f2f0',\n",
       " 'description': '## No descriptions available for the test set. ##',\n",
       " 'token': 'bc6a757d637f4832be68986833ec17ac',\n",
       " 'log_token': 'ceb76203d8d7415f83ae3f81e112a0ca',\n",
       " 'first_sample_token': '1b9a789e08bb4b7b89eacb2176c70840'}"
      ]
     },
     "execution_count": 36,
     "metadata": {},
     "output_type": "execute_result"
    }
   ],
   "source": [
    "my_scene = nusc.scene[0]\n",
    "my_scene"
   ]
  },
  {
   "cell_type": "code",
   "execution_count": 44,
   "metadata": {},
   "outputs": [
    {
     "name": "stdout",
     "output_type": "stream",
     "text": [
      "1b9a789e08bb4b7b89eacb2176c70840\n"
     ]
    }
   ],
   "source": [
    "first_sample_token = my_scene['first_sample_token']\n",
    "print(first_sample_token)"
   ]
  },
  {
   "cell_type": "code",
   "execution_count": 45,
   "metadata": {},
   "outputs": [
    {
     "name": "stdout",
     "output_type": "stream",
     "text": [
      "{'token': '1b9a789e08bb4b7b89eacb2176c70840', 'timestamp': 1533153857947444, 'prev': '', 'next': 'fdcf214ba54b4241a12529a9d81d051c', 'scene_token': 'bc6a757d637f4832be68986833ec17ac', 'data': {'RADAR_FRONT': '3b66205290474491a336a0afe1e6dda8', 'RADAR_FRONT_LEFT': '82d49266f9964326ac473c363d3e4d38', 'RADAR_FRONT_RIGHT': '6dff1c297b6c46b7b3cb3aa716251c54', 'RADAR_BACK_LEFT': '1b0cffdebb594ac9a516e205eaa59beb', 'RADAR_BACK_RIGHT': '63323574bb19422c883987b133665371', 'LIDAR_TOP': '47d2f6131ba449f6a03ced4bde2c6dbe', 'CAM_FRONT': 'caa1655b91664d56ac81971a8bb6a20d', 'CAM_FRONT_RIGHT': 'fd105fa0c85a430e806cf995bf6fcfda', 'CAM_BACK_RIGHT': 'b850254893fe4e8ea84875fb6b79f38c', 'CAM_BACK': '1144cf8014d7456ea9a89a8ddcf26b76', 'CAM_BACK_LEFT': '80902c1e125243ba821804d5bcb4aaa9', 'CAM_FRONT_LEFT': 'c257a90104ec4d99beab18b0e83866ff'}, 'anns': []}\n"
     ]
    }
   ],
   "source": [
    "my_sample = nusc.get('sample', first_sample_token)\n",
    "print(my_sample)"
   ]
  },
  {
   "cell_type": "code",
   "execution_count": 46,
   "metadata": {},
   "outputs": [
    {
     "name": "stdout",
     "output_type": "stream",
     "text": [
      "Sample: 1b9a789e08bb4b7b89eacb2176c70840\n",
      "\n",
      "sample_data_token: 3b66205290474491a336a0afe1e6dda8, mod: radar, channel: RADAR_FRONT\n",
      "sample_data_token: 82d49266f9964326ac473c363d3e4d38, mod: radar, channel: RADAR_FRONT_LEFT\n",
      "sample_data_token: 6dff1c297b6c46b7b3cb3aa716251c54, mod: radar, channel: RADAR_FRONT_RIGHT\n",
      "sample_data_token: 1b0cffdebb594ac9a516e205eaa59beb, mod: radar, channel: RADAR_BACK_LEFT\n",
      "sample_data_token: 63323574bb19422c883987b133665371, mod: radar, channel: RADAR_BACK_RIGHT\n",
      "sample_data_token: 47d2f6131ba449f6a03ced4bde2c6dbe, mod: lidar, channel: LIDAR_TOP\n",
      "sample_data_token: caa1655b91664d56ac81971a8bb6a20d, mod: camera, channel: CAM_FRONT\n",
      "sample_data_token: fd105fa0c85a430e806cf995bf6fcfda, mod: camera, channel: CAM_FRONT_RIGHT\n",
      "sample_data_token: b850254893fe4e8ea84875fb6b79f38c, mod: camera, channel: CAM_BACK_RIGHT\n",
      "sample_data_token: 1144cf8014d7456ea9a89a8ddcf26b76, mod: camera, channel: CAM_BACK\n",
      "sample_data_token: 80902c1e125243ba821804d5bcb4aaa9, mod: camera, channel: CAM_BACK_LEFT\n",
      "sample_data_token: c257a90104ec4d99beab18b0e83866ff, mod: camera, channel: CAM_FRONT_LEFT\n",
      "\n"
     ]
    }
   ],
   "source": [
    "nusc.list_sample(my_sample['token'])"
   ]
  },
  {
   "cell_type": "code",
   "execution_count": null,
   "metadata": {},
   "outputs": [],
   "source": []
  }
 ],
 "metadata": {
  "interpreter": {
   "hash": "d3d4dce4e6dbd955ba17784afc47dc0e5253d92eb3a38241d1449276295da5f7"
  },
  "kernelspec": {
   "display_name": "Python 3.8.12 ('centerpoint')",
   "language": "python",
   "name": "python3"
  },
  "language_info": {
   "codemirror_mode": {
    "name": "ipython",
    "version": 3
   },
   "file_extension": ".py",
   "mimetype": "text/x-python",
   "name": "python",
   "nbconvert_exporter": "python",
   "pygments_lexer": "ipython3",
   "version": "3.8.12"
  },
  "orig_nbformat": 4
 },
 "nbformat": 4,
 "nbformat_minor": 2
}
